{
 "cells": [
  {
   "cell_type": "markdown",
   "id": "279f3845",
   "metadata": {},
   "source": [
    "# 137. Single Number II"
   ]
  },
  {
   "cell_type": "markdown",
   "id": "e9f828f2",
   "metadata": {},
   "source": [
    "Given an integer array nums where every element appears three times except for one, which appears exactly once. Find the single element and return it.\n",
    "\n",
    "You must implement a solution with a linear runtime complexity and use only constant extra space.\n",
    "\n",
    " \n",
    "\n",
    "Example 1:\n",
    "\n",
    "Input: nums = [2,2,3,2]\n",
    "Output: 3\n",
    "Example 2:\n",
    "\n",
    "Input: nums = [0,1,0,1,0,1,99]\n",
    "Output: 99\n",
    " \n",
    "\n",
    "Constraints:\n",
    "\n",
    "1 <= nums.length <= 3 * 104\n",
    "-231 <= nums[i] <= 231 - 1\n",
    "Each element in nums appears exactly three times except for one element which appears once."
   ]
  },
  {
   "cell_type": "code",
   "execution_count": null,
   "id": "af589f44",
   "metadata": {},
   "outputs": [],
   "source": [
    "from typing import List\n",
    "class Solution:\n",
    "    def singleNumber(self, nums: List[int]) -> int:\n",
    "        bit_count = [0] * 32\n",
    "        \n",
    "        for num in nums:\n",
    "            for i in range(32):\n",
    "                bit_count[i] += (num >> i) & 1\n",
    "        \n",
    "        result = 0\n",
    "        for i in range(32):\n",
    "            if bit_count[i] % 3 != 0:\n",
    "                # handle negative numbers\n",
    "                if i == 31:\n",
    "                    result -= (1 << i)\n",
    "                else:\n",
    "                    result += (1 << i)\n",
    "        \n",
    "        return result"
   ]
  },
  {
   "cell_type": "code",
   "execution_count": null,
   "id": "f59010f4",
   "metadata": {},
   "outputs": [],
   "source": []
  }
 ],
 "metadata": {
  "language_info": {
   "name": "python"
  }
 },
 "nbformat": 4,
 "nbformat_minor": 5
}
